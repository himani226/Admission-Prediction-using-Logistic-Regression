{
 "cells": [
  {
   "cell_type": "markdown",
   "metadata": {},
   "source": [
    "1. Convert .txt file to .csv file.\n",
    "2. Name the first column as Exam 1, second as Exam 2 and third column as admission. Consider 0 as not admitted and 1 as admitted.\n",
    "3. Plot scatter graph between exam 1 and exam 2. The marker should be x for not admitted and + for admitted. \n",
    "4. Calculate Sigmoid Function.\n",
    "5. Find the cost function.\n",
    "6.Find the Gradient decent"
   ]
  },
  {
   "cell_type": "code",
   "execution_count": 22,
   "metadata": {},
   "outputs": [],
   "source": [
    "import pandas as pd\n",
    "import numpy as np\n",
    "import matplotlib.pyplot as plt\n",
    "import seaborn as sb"
   ]
  },
  {
   "cell_type": "code",
   "execution_count": 23,
   "metadata": {},
   "outputs": [
    {
     "data": {
      "text/html": [
       "<div>\n",
       "<style scoped>\n",
       "    .dataframe tbody tr th:only-of-type {\n",
       "        vertical-align: middle;\n",
       "    }\n",
       "\n",
       "    .dataframe tbody tr th {\n",
       "        vertical-align: top;\n",
       "    }\n",
       "\n",
       "    .dataframe thead th {\n",
       "        text-align: right;\n",
       "    }\n",
       "</style>\n",
       "<table border=\"1\" class=\"dataframe\">\n",
       "  <thead>\n",
       "    <tr style=\"text-align: right;\">\n",
       "      <th></th>\n",
       "      <th>34.62365962451697</th>\n",
       "      <th>78.0246928153624</th>\n",
       "      <th>0</th>\n",
       "    </tr>\n",
       "  </thead>\n",
       "  <tbody>\n",
       "    <tr>\n",
       "      <th>0</th>\n",
       "      <td>30.286711</td>\n",
       "      <td>43.894998</td>\n",
       "      <td>0</td>\n",
       "    </tr>\n",
       "    <tr>\n",
       "      <th>1</th>\n",
       "      <td>35.847409</td>\n",
       "      <td>72.902198</td>\n",
       "      <td>0</td>\n",
       "    </tr>\n",
       "    <tr>\n",
       "      <th>2</th>\n",
       "      <td>60.182599</td>\n",
       "      <td>86.308552</td>\n",
       "      <td>1</td>\n",
       "    </tr>\n",
       "    <tr>\n",
       "      <th>3</th>\n",
       "      <td>79.032736</td>\n",
       "      <td>75.344376</td>\n",
       "      <td>1</td>\n",
       "    </tr>\n",
       "    <tr>\n",
       "      <th>4</th>\n",
       "      <td>45.083277</td>\n",
       "      <td>56.316372</td>\n",
       "      <td>0</td>\n",
       "    </tr>\n",
       "  </tbody>\n",
       "</table>\n",
       "</div>"
      ],
      "text/plain": [
       "   34.62365962451697  78.0246928153624  0\n",
       "0          30.286711         43.894998  0\n",
       "1          35.847409         72.902198  0\n",
       "2          60.182599         86.308552  1\n",
       "3          79.032736         75.344376  1\n",
       "4          45.083277         56.316372  0"
      ]
     },
     "execution_count": 23,
     "metadata": {},
     "output_type": "execute_result"
    }
   ],
   "source": [
    "df = pd.read_csv(\"university_admission.txt\")\n",
    "df.head()"
   ]
  },
  {
   "cell_type": "code",
   "execution_count": 24,
   "metadata": {},
   "outputs": [],
   "source": [
    "#convert to csv file\n",
    "df.to_csv('my_file.csv')"
   ]
  },
  {
   "cell_type": "code",
   "execution_count": 25,
   "metadata": {},
   "outputs": [
    {
     "data": {
      "text/html": [
       "<div>\n",
       "<style scoped>\n",
       "    .dataframe tbody tr th:only-of-type {\n",
       "        vertical-align: middle;\n",
       "    }\n",
       "\n",
       "    .dataframe tbody tr th {\n",
       "        vertical-align: top;\n",
       "    }\n",
       "\n",
       "    .dataframe thead th {\n",
       "        text-align: right;\n",
       "    }\n",
       "</style>\n",
       "<table border=\"1\" class=\"dataframe\">\n",
       "  <thead>\n",
       "    <tr style=\"text-align: right;\">\n",
       "      <th></th>\n",
       "      <th>34.62365962451697</th>\n",
       "      <th>78.0246928153624</th>\n",
       "      <th>0</th>\n",
       "    </tr>\n",
       "  </thead>\n",
       "  <tbody>\n",
       "    <tr>\n",
       "      <th>0</th>\n",
       "      <td>30.286711</td>\n",
       "      <td>43.894998</td>\n",
       "      <td>0</td>\n",
       "    </tr>\n",
       "    <tr>\n",
       "      <th>1</th>\n",
       "      <td>35.847409</td>\n",
       "      <td>72.902198</td>\n",
       "      <td>0</td>\n",
       "    </tr>\n",
       "    <tr>\n",
       "      <th>2</th>\n",
       "      <td>60.182599</td>\n",
       "      <td>86.308552</td>\n",
       "      <td>1</td>\n",
       "    </tr>\n",
       "    <tr>\n",
       "      <th>3</th>\n",
       "      <td>79.032736</td>\n",
       "      <td>75.344376</td>\n",
       "      <td>1</td>\n",
       "    </tr>\n",
       "    <tr>\n",
       "      <th>4</th>\n",
       "      <td>45.083277</td>\n",
       "      <td>56.316372</td>\n",
       "      <td>0</td>\n",
       "    </tr>\n",
       "  </tbody>\n",
       "</table>\n",
       "</div>"
      ],
      "text/plain": [
       "   34.62365962451697  78.0246928153624  0\n",
       "0          30.286711         43.894998  0\n",
       "1          35.847409         72.902198  0\n",
       "2          60.182599         86.308552  1\n",
       "3          79.032736         75.344376  1\n",
       "4          45.083277         56.316372  0"
      ]
     },
     "execution_count": 25,
     "metadata": {},
     "output_type": "execute_result"
    }
   ],
   "source": [
    "df.head()"
   ]
  },
  {
   "cell_type": "code",
   "execution_count": 26,
   "metadata": {},
   "outputs": [
    {
     "data": {
      "text/html": [
       "<div>\n",
       "<style scoped>\n",
       "    .dataframe tbody tr th:only-of-type {\n",
       "        vertical-align: middle;\n",
       "    }\n",
       "\n",
       "    .dataframe tbody tr th {\n",
       "        vertical-align: top;\n",
       "    }\n",
       "\n",
       "    .dataframe thead th {\n",
       "        text-align: right;\n",
       "    }\n",
       "</style>\n",
       "<table border=\"1\" class=\"dataframe\">\n",
       "  <thead>\n",
       "    <tr style=\"text-align: right;\">\n",
       "      <th></th>\n",
       "      <th>Exam1</th>\n",
       "      <th>Exam2</th>\n",
       "      <th>Admission</th>\n",
       "    </tr>\n",
       "  </thead>\n",
       "  <tbody>\n",
       "    <tr>\n",
       "      <th>0</th>\n",
       "      <td>30.286711</td>\n",
       "      <td>43.894998</td>\n",
       "      <td>0</td>\n",
       "    </tr>\n",
       "    <tr>\n",
       "      <th>1</th>\n",
       "      <td>35.847409</td>\n",
       "      <td>72.902198</td>\n",
       "      <td>0</td>\n",
       "    </tr>\n",
       "    <tr>\n",
       "      <th>2</th>\n",
       "      <td>60.182599</td>\n",
       "      <td>86.308552</td>\n",
       "      <td>1</td>\n",
       "    </tr>\n",
       "    <tr>\n",
       "      <th>3</th>\n",
       "      <td>79.032736</td>\n",
       "      <td>75.344376</td>\n",
       "      <td>1</td>\n",
       "    </tr>\n",
       "    <tr>\n",
       "      <th>4</th>\n",
       "      <td>45.083277</td>\n",
       "      <td>56.316372</td>\n",
       "      <td>0</td>\n",
       "    </tr>\n",
       "    <tr>\n",
       "      <th>...</th>\n",
       "      <td>...</td>\n",
       "      <td>...</td>\n",
       "      <td>...</td>\n",
       "    </tr>\n",
       "    <tr>\n",
       "      <th>94</th>\n",
       "      <td>83.489163</td>\n",
       "      <td>48.380286</td>\n",
       "      <td>1</td>\n",
       "    </tr>\n",
       "    <tr>\n",
       "      <th>95</th>\n",
       "      <td>42.261701</td>\n",
       "      <td>87.103851</td>\n",
       "      <td>1</td>\n",
       "    </tr>\n",
       "    <tr>\n",
       "      <th>96</th>\n",
       "      <td>99.315009</td>\n",
       "      <td>68.775409</td>\n",
       "      <td>1</td>\n",
       "    </tr>\n",
       "    <tr>\n",
       "      <th>97</th>\n",
       "      <td>55.340018</td>\n",
       "      <td>64.931938</td>\n",
       "      <td>1</td>\n",
       "    </tr>\n",
       "    <tr>\n",
       "      <th>98</th>\n",
       "      <td>74.775893</td>\n",
       "      <td>89.529813</td>\n",
       "      <td>1</td>\n",
       "    </tr>\n",
       "  </tbody>\n",
       "</table>\n",
       "<p>99 rows × 3 columns</p>\n",
       "</div>"
      ],
      "text/plain": [
       "        Exam1      Exam2  Admission\n",
       "0   30.286711  43.894998          0\n",
       "1   35.847409  72.902198          0\n",
       "2   60.182599  86.308552          1\n",
       "3   79.032736  75.344376          1\n",
       "4   45.083277  56.316372          0\n",
       "..        ...        ...        ...\n",
       "94  83.489163  48.380286          1\n",
       "95  42.261701  87.103851          1\n",
       "96  99.315009  68.775409          1\n",
       "97  55.340018  64.931938          1\n",
       "98  74.775893  89.529813          1\n",
       "\n",
       "[99 rows x 3 columns]"
      ]
     },
     "execution_count": 26,
     "metadata": {},
     "output_type": "execute_result"
    }
   ],
   "source": [
    "df.columns = ['Exam1', 'Exam2','Admission']\n",
    "df"
   ]
  },
  {
   "cell_type": "code",
   "execution_count": 27,
   "metadata": {},
   "outputs": [
    {
     "data": {
      "image/png": "[encoded data removed]",
      "text/plain": [
       "<Figure size 432x288 with 1 Axes>"
      ]
     },
     "metadata": {
      "needs_background": "light"
     },
     "output_type": "display_data"
    }
   ],
   "source": [
    "m1=df['Exam1'].tolist()\n",
    "m2=df['Exam2'].tolist()\n",
    "adm=df['Admission'].tolist()\n",
    "\n",
    "for i in range(len(m1)):\n",
    "    if adm[i]==0:\n",
    "        plt.scatter(m1[i],m2[i],marker='x',color='red')\n",
    "    else:\n",
    "        plt.scatter(m1[i],m2[i],marker='+',color='green')\n",
    "        \n",
    "plt.xlabel('Exam1')\n",
    "plt.ylabel('Exam2')\n",
    "plt.show()"
   ]
  },
  {
   "cell_type": "code",
   "execution_count": 28,
   "metadata": {},
   "outputs": [
    {
     "name": "stdout",
     "output_type": "stream",
     "text": [
      "sigmoid function value 0.5\n"
     ]
    }
   ],
   "source": [
    "#calculate Sigmoid function\n",
    "#s=1/(1+e(pw-(th0+th1x1)))\n",
    "\n",
    "q0=q1=q2=0\n",
    "for i in range(len(m1)):\n",
    "    sig=1/(1+np.exp(-(q0+q1*m1[i]+q2*m2[i])))\n",
    "    \n",
    "print('sigmoid function value', sig)"
   ]
  },
  {
   "cell_type": "code",
   "execution_count": 11,
   "metadata": {},
   "outputs": [
    {
     "name": "stdout",
     "output_type": "stream",
     "text": [
      "[0.0070014866723226805, 0.014002973344645361, 0.02100446001696804, 0.028005946689290722, 0.0350074333616134, 0.04200892003393608, 0.04901040670625876, 0.05601189337858144, 0.06301338005090412, 0.0700148667232268, 0.07701635339554949, 0.08401784006787218, 0.09101932674019486, 0.09802081341251755, 0.10502230008484023, 0.11202378675716292, 0.1190252734294856, 0.12602676010180827, 0.13302824677413094, 0.1400297334464536, 0.14703122011877628, 0.15403270679109896, 0.16103419346342163, 0.1680356801357443, 0.17503716680806697, 0.18203865348038964, 0.1890401401527123, 0.19604162682503498, 0.20304311349735765, 0.21004460016968032, 0.217046086842003, 0.22404757351432567, 0.23104906018664834, 0.238050546858971, 0.24505203353129368, 0.2520535202036164, 0.2590550068759391, 0.2660564935482618, 0.2730579802205845, 0.28005946689290717, 0.28706095356522987, 0.29406244023755257, 0.30106392690987527, 0.30806541358219797, 0.31506690025452067, 0.32206838692684336, 0.32906987359916606, 0.33607136027148876, 0.34307284694381146, 0.35007433361613416, 0.35707582028845686, 0.36407730696077956, 0.37107879363310226, 0.37808028030542495, 0.38508176697774765, 0.39208325365007035, 0.39908474032239305, 0.40608622699471575, 0.41308771366703845, 0.42008920033936115, 0.42709068701168384, 0.43409217368400654, 0.44109366035632924, 0.44809514702865194, 0.45509663370097464, 0.46209812037329734, 0.46909960704562004, 0.47610109371794274, 0.48310258039026543, 0.49010406706258813, 0.49710555373491083, 0.5041070404072335, 0.5111085270795562, 0.5181100137518789, 0.5251115004242016, 0.5321129870965243, 0.539114473768847, 0.5461159604411697, 0.5531174471134924, 0.5601189337858151, 0.5671204204581378, 0.5741219071304605, 0.5811233938027832, 0.5881248804751059, 0.5951263671474286, 0.6021278538197513, 0.609129340492074, 0.6161308271643967, 0.6231323138367194, 0.6301338005090421, 0.6371352871813648, 0.6441367738536875, 0.6511382605260102, 0.6581397471983329, 0.6651412338706556, 0.6721427205429783, 0.679144207215301, 0.6861456938876237, 0.6931471805599464]\n"
     ]
    }
   ],
   "source": [
    "# cost function\n",
    "\n",
    "#J(th)=-1/m(sum i to m (y*log(h)+(1-y)log(1-h)))\n",
    "\n",
    "cost=0\n",
    "c=[]\n",
    "m=len(m1)\n",
    "for j in range(m):\n",
    "    cost-=((1/m)*(adm[j]*np.log(sig)+(1-adm[j])*np.log(1-sig)))\n",
    "    c.append(cost)\n",
    "    \n",
    "print(c)"
   ]
  },
  {
   "cell_type": "code",
   "execution_count": 12,
   "metadata": {},
   "outputs": [
    {
     "data": {
      "image/png": "[encoded data removed]",
      "text/plain": [
       "<Figure size 432x288 with 1 Axes>"
      ]
     },
     "metadata": {
      "needs_background": "light"
     },
     "output_type": "display_data"
    }
   ],
   "source": [
    "plt.plot(range(99),c)\n",
    "plt.xlabel('Number of iterations')\n",
    "plt.ylabel('Cost function')\n",
    "plt.show()"
   ]
  },
  {
   "cell_type": "code",
   "execution_count": 29,
   "metadata": {},
   "outputs": [
    {
     "data": {
      "image/png": "[encoded data removed]",
      "text/plain": [
       "<Figure size 432x288 with 1 Axes>"
      ]
     },
     "metadata": {
      "needs_background": "light"
     },
     "output_type": "display_data"
    }
   ],
   "source": [
    "#Find the Cost Function and Gradient Decent\n",
    "#GD=th-a*1/m (summation i to m(h*xi-yi))x\n",
    "#J(th)=-1/m(sum i to m (y*log(h)+(1-y)log(1-h)))\n",
    "\n",
    "Q0=Q1=Q2=0\n",
    "\n",
    "a=0.0001\n",
    "l=len(m1)\n",
    "cost=[] #cost Function\n",
    "\n",
    "for i in range (100):\n",
    "    c=0\n",
    "    for j in range(l):\n",
    "        sig=1/(1+np.exp(-(Q0+Q1*m1[j]+Q2*m2[j])))\n",
    "        c-=(adm[j]*np.log(sig)+(1-adm[j])*np.log(1-sig))\n",
    "    c= (c/l)\n",
    "    cost.append(c)\n",
    "    \n",
    "    gd1=0\n",
    "    for k in range(l):\n",
    "        gd1+=(1/(1+np.exp(-(Q0+Q1*m1[k]+Q2*m2[k])))-adm[k])\n",
    "        \n",
    "    Q0-=a*(gd1/l)\n",
    "    \n",
    "    gd2=0\n",
    "    for k in range(l):\n",
    "        gd2+=(1/(1+np.exp(-(Q0+Q1*m1[k]+Q2*m2[k])))-adm[k])*m1[k]\n",
    "        \n",
    "    Q1-=a*(gd2/l)\n",
    "    \n",
    "    gd3=0\n",
    "    for k in range(l):\n",
    "        gd3+=(1/(1+np.exp(-(Q0+Q1*m1[k]+Q2*m2[k])))-adm[k])*m2[k]\n",
    "        \n",
    "    Q2-=a*(gd3/l)\n",
    "    \n",
    "\n",
    "plt.plot(range(100),cost)\n",
    "plt.xlabel('Number of iterations')\n",
    "plt.ylabel('Cost function')\n",
    "plt.show()  "
   ]
  },
  {
   "cell_type": "code",
   "execution_count": 30,
   "metadata": {},
   "outputs": [
    {
     "name": "stdout",
     "output_type": "stream",
     "text": [
      "The value of Q0,Q1 and Q2: -0.0006092087958028584 0.007623853957695819 and 0.0035682915170456974\n"
     ]
    }
   ],
   "source": [
    "print(\"The value of Q0,Q1 and Q2:\", Q0,Q1,'and',Q2)"
   ]
  },
  {
   "cell_type": "code",
   "execution_count": 34,
   "metadata": {},
   "outputs": [
    {
     "name": "stdout",
     "output_type": "stream",
     "text": [
      "enter marks1:78.9\n",
      "enter marks1:78\n",
      "Admitted\n"
     ]
    }
   ],
   "source": [
    "y=[]\n",
    "\n",
    "for i in range(l):\n",
    "    h=1/(1+np.exp(-(Q0+Q1*m1[i]+Q2*m2[i])))\n",
    "    y.append(h)\n",
    "\n",
    "avg=sum(y)/len(y)\n",
    "\n",
    "M1=float(input(\"enter marks1:\"))\n",
    "M2=float(input(\"enter marks1:\"))\n",
    "\n",
    "s=1/(1+np.exp(-(Q0+Q1*M1+Q2*M2)))\n",
    "if s>avg:\n",
    "    print(\"Admitted\")\n",
    "else:\n",
    "    print(\"Not Admitted\")\n",
    "    "
   ]
  },
  {
   "cell_type": "code",
   "execution_count": null,
   "metadata": {},
   "outputs": [],
   "source": []
  }
 ],
 "metadata": {
  "kernelspec": {
   "display_name": "Python 3",
   "language": "python",
   "name": "python3"
  },
  "language_info": {
   "codemirror_mode": {
    "name": "ipython",
    "version": 3
   },
   "file_extension": ".py",
   "mimetype": "text/x-python",
   "name": "python",
   "nbconvert_exporter": "python",
   "pygments_lexer": "ipython3",
   "version": "3.7.6"
  }
 },
 "nbformat": 4,
 "nbformat_minor": 4
}
